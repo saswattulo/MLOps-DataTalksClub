{
 "cells": [
  {
   "cell_type": "code",
   "execution_count": 2,
   "id": "231b8685",
   "metadata": {},
   "outputs": [],
   "source": [
    "from mlflow.tracking import MlflowClient\n",
    "\n",
    "TRACKING_URI=\"sqlite:///mlflow.db\"\n",
    "\n",
    "client=MlflowClient(tracking_uri=TRACKING_URI)"
   ]
  },
  {
   "cell_type": "code",
   "execution_count": 11,
   "id": "5a126deb",
   "metadata": {},
   "outputs": [],
   "source": [
    "from mlflow.entities import ViewType\n",
    "\n",
    "\n",
    "all_runs=client.search_runs(experiment_ids=1,\n",
    "                            filter_string=\"\",\n",
    "                            run_view_type=ViewType.ALL,\n",
    "                            max_results=10,order_by=[\"metrics.rmse ASC\"])"
   ]
  },
  {
   "cell_type": "code",
   "execution_count": 36,
   "id": "d60a9479",
   "metadata": {},
   "outputs": [
    {
     "name": "stdout",
     "output_type": "stream",
     "text": [
      "run id : df2d51c4c2f641fc9c29d65dccdb5238 rmse : 6.0908\n",
      "run id : 6d9f2c4747354b90888158ec59dd82c6 rmse : 6.0942\n",
      "run id : bb34ed8d2eab4ae6b9ebefd856ce5f8f rmse : 6.0945\n",
      "run id : 75a661fc9c214765bce5174c79009e19 rmse : 6.0946\n",
      "run id : 21db4852cd514ed99dc9a5c142470c55 rmse : 6.0950\n",
      "run id : 3971ff5e627b465496931789c8d5226e rmse : 6.0957\n",
      "run id : 532a40698f47402fb631a2c2a794ad8a rmse : 6.0958\n",
      "run id : cf057cfdd1a04065ae08453928e96e90 rmse : 6.0960\n",
      "run id : 637e594f956a4e4b8cad2fa78be5bc15 rmse : 6.0961\n",
      "run id : 88305023e0194871b7c371b08ca8ceb0 rmse : 6.0994\n"
     ]
    }
   ],
   "source": [
    "for run in all_runs:\n",
    "    print(f\"run id : {run.info.run_id} rmse : {run.data.metrics['rmse']:.4f}\")"
   ]
  },
  {
   "cell_type": "code",
   "execution_count": 38,
   "id": "8a033221",
   "metadata": {},
   "outputs": [],
   "source": [
    "import mlflow\n",
    "\n",
    "\n",
    "mlflow.set_tracking_uri(TRACKING_URI)"
   ]
  },
  {
   "cell_type": "code",
   "execution_count": 40,
   "id": "2dca4ab4",
   "metadata": {},
   "outputs": [
    {
     "name": "stderr",
     "output_type": "stream",
     "text": [
      "Registered model 'nyc-models' already exists. Creating a new version of this model...\n",
      "Created version '4' of model 'nyc-models'.\n"
     ]
    },
    {
     "data": {
      "text/plain": [
       "<ModelVersion: aliases=[], creation_timestamp=1725086044555, current_stage='None', description=None, last_updated_timestamp=1725086044555, name='nyc-models', run_id='df2d51c4c2f641fc9c29d65dccdb5238', run_link=None, source='/workspaces/MLOps-DataTalksClub/02_experiment_tracking/mlruns/1/df2d51c4c2f641fc9c29d65dccdb5238/artifacts/model', status='READY', status_message=None, tags={}, user_id=None, version=4>"
      ]
     },
     "execution_count": 40,
     "metadata": {},
     "output_type": "execute_result"
    }
   ],
   "source": [
    "run_id=\"df2d51c4c2f641fc9c29d65dccdb5238\"\n",
    "\n",
    "model_uri=f\"runs:/{run_id}/model\"\n",
    "\n",
    "mlflow.register_model(model_uri=model_uri,name=\"nyc-models\")"
   ]
  },
  {
   "cell_type": "code",
   "execution_count": 58,
   "id": "4a105693",
   "metadata": {},
   "outputs": [
    {
     "name": "stderr",
     "output_type": "stream",
     "text": [
      "/tmp/ipykernel_41887/899487516.py:3: FutureWarning: ``mlflow.tracking.client.MlflowClient.get_latest_versions`` is deprecated since 2.9.0. Model registry stages will be removed in a future major release. To learn more about the deprecation of model registry stages, see our migration guide here: https://mlflow.org/docs/latest/model-registry.html#migrating-from-stages\n",
      "  latest_versions=client.get_latest_versions(name=model_name)\n"
     ]
    }
   ],
   "source": [
    "model_name=\"nyc-models\"\n",
    "\n",
    "latest_versions=client.get_latest_versions(name=model_name)\n"
   ]
  },
  {
   "cell_type": "code",
   "execution_count": 59,
   "id": "ac6cb81e",
   "metadata": {},
   "outputs": [
    {
     "name": "stdout",
     "output_type": "stream",
     "text": [
      "version : 4 stage: None\n",
      "version : 3 stage: Staging\n"
     ]
    }
   ],
   "source": [
    "for version in latest_versions:\n",
    "    print(f\"version : {version.version} stage: {version.current_stage}\")"
   ]
  },
  {
   "cell_type": "code",
   "execution_count": 67,
   "id": "edea2aca",
   "metadata": {},
   "outputs": [
    {
     "name": "stderr",
     "output_type": "stream",
     "text": [
      "/tmp/ipykernel_41887/1147022751.py:4: FutureWarning: ``mlflow.tracking.client.MlflowClient.transition_model_version_stage`` is deprecated since 2.9.0. Model registry stages will be removed in a future major release. To learn more about the deprecation of model registry stages, see our migration guide here: https://mlflow.org/docs/latest/model-registry.html#migrating-from-stages\n",
      "  client.transition_model_version_stage(\n"
     ]
    },
    {
     "data": {
      "text/plain": [
       "<ModelVersion: aliases=[], creation_timestamp=1725086044555, current_stage='Staging', description=None, last_updated_timestamp=1725087308417, name='nyc-models', run_id='df2d51c4c2f641fc9c29d65dccdb5238', run_link=None, source='/workspaces/MLOps-DataTalksClub/02_experiment_tracking/mlruns/1/df2d51c4c2f641fc9c29d65dccdb5238/artifacts/model', status='READY', status_message=None, tags={}, user_id=None, version=4>"
      ]
     },
     "execution_count": 67,
     "metadata": {},
     "output_type": "execute_result"
    }
   ],
   "source": [
    "model_version=4\n",
    "new_stage=\"Staging\"\n",
    "\n",
    "client.transition_model_version_stage(\n",
    "    name=model_name,\n",
    "    version=model_version,\n",
    "    stage=new_stage,\n",
    "    archive_existing_versions=False)"
   ]
  },
  {
   "cell_type": "code",
   "execution_count": 69,
   "id": "f2559eb8",
   "metadata": {},
   "outputs": [
    {
     "data": {
      "text/plain": [
       "<ModelVersion: aliases=[], creation_timestamp=1725086044555, current_stage='Staging', description='This model version 4 was transitioned to Staging on 2024-08-31', last_updated_timestamp=1725087329120, name='nyc-models', run_id='df2d51c4c2f641fc9c29d65dccdb5238', run_link=None, source='/workspaces/MLOps-DataTalksClub/02_experiment_tracking/mlruns/1/df2d51c4c2f641fc9c29d65dccdb5238/artifacts/model', status='READY', status_message=None, tags={}, user_id=None, version=4>"
      ]
     },
     "execution_count": 69,
     "metadata": {},
     "output_type": "execute_result"
    }
   ],
   "source": [
    "from datetime import datetime\n",
    "\n",
    "date=datetime.today().date()\n",
    "\n",
    "client.update_model_version(\n",
    "    name=model_name,\n",
    "    version=4,\n",
    "    description=f\"This model version {model_version} was transitioned to {new_stage} on {date}\"\n",
    ")"
   ]
  },
  {
   "cell_type": "code",
   "execution_count": 64,
   "id": "a36de618",
   "metadata": {},
   "outputs": [
    {
     "data": {
      "text/plain": [
       "datetime.date(2024, 8, 31)"
      ]
     },
     "execution_count": 64,
     "metadata": {},
     "output_type": "execute_result"
    }
   ],
   "source": [
    "from datetime import datetime\n",
    "\n",
    "datetime.today().date()"
   ]
  },
  {
   "cell_type": "code",
   "execution_count": null,
   "id": "59114ce7",
   "metadata": {},
   "outputs": [],
   "source": []
  }
 ],
 "metadata": {
  "kernelspec": {
   "display_name": "Python 3 (ipykernel)",
   "language": "python",
   "name": "python3"
  },
  "language_info": {
   "codemirror_mode": {
    "name": "ipython",
    "version": 3
   },
   "file_extension": ".py",
   "mimetype": "text/x-python",
   "name": "python",
   "nbconvert_exporter": "python",
   "pygments_lexer": "ipython3",
   "version": "3.9.12"
  }
 },
 "nbformat": 4,
 "nbformat_minor": 5
}
