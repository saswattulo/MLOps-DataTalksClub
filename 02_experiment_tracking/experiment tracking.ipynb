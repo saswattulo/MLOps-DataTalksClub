{
 "cells": [
  {
   "cell_type": "markdown",
   "id": "882d24b9",
   "metadata": {},
   "source": [
    "## Experiment Tracking"
   ]
  },
  {
   "cell_type": "markdown",
   "id": "89502e77",
   "metadata": {},
   "source": [
    "## Why\n",
    "##### 1.Reproduction\n",
    "##### 2. Organization of different models\n",
    "##### 3. Optimization "
   ]
  },
  {
   "cell_type": "markdown",
   "id": "168d1aa4",
   "metadata": {},
   "source": [
    "##### MLflow\n",
    "###### 1. Tracking\n",
    "###### 2. Models\n",
    "###### 3. Model registry\n",
    "###### 4. Projects"
   ]
  },
  {
   "cell_type": "code",
   "execution_count": null,
   "id": "0e195fb5",
   "metadata": {},
   "outputs": [],
   "source": []
  },
  {
   "cell_type": "code",
   "execution_count": null,
   "id": "c67695d4",
   "metadata": {},
   "outputs": [],
   "source": []
  }
 ],
 "metadata": {
  "kernelspec": {
   "display_name": "Python 3 (ipykernel)",
   "language": "python",
   "name": "python3"
  },
  "language_info": {
   "codemirror_mode": {
    "name": "ipython",
    "version": 3
   },
   "file_extension": ".py",
   "mimetype": "text/x-python",
   "name": "python",
   "nbconvert_exporter": "python",
   "pygments_lexer": "ipython3",
   "version": "3.9.12"
  }
 },
 "nbformat": 4,
 "nbformat_minor": 5
}
